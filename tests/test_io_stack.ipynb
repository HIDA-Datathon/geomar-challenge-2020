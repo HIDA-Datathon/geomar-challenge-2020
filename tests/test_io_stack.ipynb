{
 "cells": [
  {
   "cell_type": "markdown",
   "metadata": {},
   "source": [
    "# Minimal IO tests\n",
    "\n",
    "These tests illustrate the IO libs we're planning to use the GEOMAR challenge. They are not representative of the whole approach we may end up with."
   ]
  },
  {
   "cell_type": "code",
   "execution_count": null,
   "metadata": {},
   "outputs": [],
   "source": [
    "# parameters\n",
    "N = 1_000_000  # number of positions (x, y)"
   ]
  },
  {
   "cell_type": "markdown",
   "metadata": {},
   "source": [
    "## Spin up a local Dask cluster"
   ]
  },
  {
   "cell_type": "code",
   "execution_count": null,
   "metadata": {},
   "outputs": [],
   "source": [
    "from dask.distributed import Client\n",
    "\n",
    "client = Client(n_workers=1, threads_per_worker=2, memory_limit=2e9)\n",
    "client"
   ]
  },
  {
   "cell_type": "markdown",
   "metadata": {},
   "source": [
    "## Generate random positions"
   ]
  },
  {
   "cell_type": "code",
   "execution_count": null,
   "metadata": {},
   "outputs": [],
   "source": [
    "import numpy as np"
   ]
  },
  {
   "cell_type": "code",
   "execution_count": null,
   "metadata": {},
   "outputs": [],
   "source": [
    "random_x = np.random.normal(size=(N, ))\n",
    "random_y = np.random.normal(size=(N, ))"
   ]
  },
  {
   "cell_type": "markdown",
   "metadata": {},
   "source": [
    "## Xarray dataset"
   ]
  },
  {
   "cell_type": "code",
   "execution_count": null,
   "metadata": {},
   "outputs": [],
   "source": [
    "import xarray as xr"
   ]
  },
  {
   "cell_type": "code",
   "execution_count": null,
   "metadata": {},
   "outputs": [],
   "source": [
    "positions = xr.Dataset()\n",
    "\n",
    "positions[\"x\"] = xr.DataArray(\n",
    "    random_x, dims=(\"step\", )\n",
    ")\n",
    "\n",
    "positions[\"y\"] = xr.DataArray(\n",
    "    random_y, dims=(\"step\", )\n",
    ")\n",
    "\n",
    "display(positions)"
   ]
  },
  {
   "cell_type": "code",
   "execution_count": null,
   "metadata": {},
   "outputs": [],
   "source": [
    "positions.plot.scatter(x=\"x\", y=\"y\", alpha=0.1);"
   ]
  },
  {
   "cell_type": "markdown",
   "metadata": {},
   "source": [
    "### Write to local netCDF file\n",
    "\n",
    "Write netCDF file and ensure equality of data after reading back into memory."
   ]
  },
  {
   "cell_type": "code",
   "execution_count": null,
   "metadata": {},
   "outputs": [],
   "source": [
    "!mkdir -p test_data/"
   ]
  },
  {
   "cell_type": "code",
   "execution_count": null,
   "metadata": {},
   "outputs": [],
   "source": [
    "positions.to_netcdf(\"test_data/positions.nc\")"
   ]
  },
  {
   "cell_type": "code",
   "execution_count": null,
   "metadata": {},
   "outputs": [],
   "source": [
    "positions_reread = xr.open_dataset(\"test_data/positions.nc\").load()\n",
    "display(positions_reread)"
   ]
  },
  {
   "cell_type": "code",
   "execution_count": null,
   "metadata": {},
   "outputs": [],
   "source": [
    "assert abs(positions.x - positions_reread.x).max() == 0.0, \"x values don't match\"\n",
    "assert abs(positions.y - positions_reread.y).max() == 0.0, \"y values don't match\""
   ]
  },
  {
   "cell_type": "markdown",
   "metadata": {},
   "source": [
    "### Write to local Zarr store\n",
    "\n",
    "Write Zarr store, reread and ensure equality of data.\n",
    "\n",
    "_**Note** that we'll have to chunk the data._"
   ]
  },
  {
   "cell_type": "code",
   "execution_count": null,
   "metadata": {},
   "outputs": [],
   "source": [
    "positions_chunked = positions.chunk({\"step\": int(N / 100)})\n",
    "positions_chunked"
   ]
  },
  {
   "cell_type": "code",
   "execution_count": null,
   "metadata": {},
   "outputs": [],
   "source": [
    "positions_chunked.to_zarr(\"test_data/positions.zarr/\", mode=\"w\")"
   ]
  },
  {
   "cell_type": "code",
   "execution_count": null,
   "metadata": {},
   "outputs": [],
   "source": [
    "positions_chunked_reread = xr.open_zarr(\"test_data/positions.zarr/\")\n",
    "display(positions_chunked_reread)"
   ]
  },
  {
   "cell_type": "code",
   "execution_count": null,
   "metadata": {},
   "outputs": [],
   "source": [
    "assert abs(positions_chunked.x - positions_chunked_reread.x).max().compute() == 0.0, \"x values don't match\"\n",
    "assert abs(positions_chunked.y - positions_chunked_reread.y).max().compute() == 0.0, \"y values don't match\""
   ]
  },
  {
   "cell_type": "markdown",
   "metadata": {},
   "source": [
    "## Dask Dataframe"
   ]
  },
  {
   "cell_type": "code",
   "execution_count": null,
   "metadata": {},
   "outputs": [],
   "source": [
    "from dask import dataframe as ddf\n",
    "from dask import array as darr"
   ]
  },
  {
   "cell_type": "code",
   "execution_count": null,
   "metadata": {},
   "outputs": [],
   "source": [
    "positions_ddf = ddf.from_array(darr.asarray(random_x, chunks=int(N / 100))).to_frame(name=\"x\")\n",
    "positions_ddf[\"y\"] = ddf.from_array(darr.asarray(random_y, chunks=int(N / 100)))\n",
    "positions_ddf"
   ]
  },
  {
   "cell_type": "code",
   "execution_count": null,
   "metadata": {},
   "outputs": [],
   "source": [
    "# cast to pandas dataframe and plot\n",
    "positions_ddf.compute().plot.scatter(x=\"x\", y=\"y\", alpha=0.1);"
   ]
  },
  {
   "cell_type": "markdown",
   "metadata": {},
   "source": [
    "### Write to parquet"
   ]
  },
  {
   "cell_type": "code",
   "execution_count": null,
   "metadata": {},
   "outputs": [],
   "source": [
    "positions_ddf.to_parquet(\"test_data/positions.pq\")"
   ]
  },
  {
   "cell_type": "code",
   "execution_count": null,
   "metadata": {},
   "outputs": [],
   "source": [
    "positions_ddf_reread = ddf.read_parquet(\"test_data/positions.pq\")\n",
    "display(positions_ddf_reread)"
   ]
  },
  {
   "cell_type": "code",
   "execution_count": null,
   "metadata": {},
   "outputs": [],
   "source": [
    "assert abs(positions_ddf[\"x\"] - positions_ddf_reread[\"x\"]).max().compute() == 0.0, \"x values don't match\"\n",
    "assert abs(positions_ddf[\"y\"] - positions_ddf_reread[\"y\"]).max().compute() == 0.0, \"y values don't match\""
   ]
  }
 ],
 "metadata": {
  "kernelspec": {
   "display_name": "Python 3",
   "language": "python",
   "name": "python3"
  },
  "language_info": {
   "codemirror_mode": {
    "name": "ipython",
    "version": 3
   },
   "file_extension": ".py",
   "mimetype": "text/x-python",
   "name": "python",
   "nbconvert_exporter": "python",
   "pygments_lexer": "ipython3",
   "version": "3.8.6"
  }
 },
 "nbformat": 4,
 "nbformat_minor": 4
}
