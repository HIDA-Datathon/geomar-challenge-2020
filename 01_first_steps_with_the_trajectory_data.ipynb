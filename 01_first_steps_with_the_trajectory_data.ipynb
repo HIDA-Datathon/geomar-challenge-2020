{
 "cells": [
  {
   "cell_type": "markdown",
   "metadata": {},
   "source": [
    "# Parameters\n",
    "\n",
    "Let's make sure that this is the only place where users have to change contents."
   ]
  },
  {
   "cell_type": "code",
   "execution_count": null,
   "metadata": {},
   "outputs": [],
   "source": [
    "# parameters\n",
    "\n",
    "data_store = \"gcs\""
   ]
  },
  {
   "cell_type": "markdown",
   "metadata": {},
   "source": [
    "# Loading the data"
   ]
  },
  {
   "cell_type": "code",
   "execution_count": null,
   "metadata": {},
   "outputs": [],
   "source": [
    "import intake"
   ]
  },
  {
   "cell_type": "code",
   "execution_count": null,
   "metadata": {},
   "outputs": [],
   "source": [
    "catalog = intake.Catalog(f\"intake-catalogs/medseaconnectivity_{data_store}.yaml\")"
   ]
  },
  {
   "cell_type": "code",
   "execution_count": null,
   "metadata": {},
   "outputs": [],
   "source": [
    "datasets = {k: catalog[k].to_dask() for k in catalog}\n",
    "datasets"
   ]
  },
  {
   "cell_type": "markdown",
   "metadata": {},
   "source": [
    "# Set up Dask cluster"
   ]
  },
  {
   "cell_type": "code",
   "execution_count": null,
   "metadata": {},
   "outputs": [],
   "source": [
    "from dask_kubernetes import KubeCluster\n",
    "from dask.distributed import Client"
   ]
  },
  {
   "cell_type": "code",
   "execution_count": null,
   "metadata": {},
   "outputs": [],
   "source": [
    "if data_store == \"gcs\":\n",
    "    cluster = KubeCluster(n_workers=10)\n",
    "    cluster.adapt(minimum=10, maximum=50)\n",
    "    \n",
    "client = Client(cluster)\n",
    "display(client)"
   ]
  },
  {
   "cell_type": "markdown",
   "metadata": {},
   "source": [
    "# Plot a heat map\n",
    "\n",
    "We'll calculate a heat map data array and plot it."
   ]
  },
  {
   "cell_type": "code",
   "execution_count": null,
   "metadata": {},
   "outputs": [],
   "source": [
    "from xhistogram.xarray import histogram as xhist\n",
    "import numpy as np\n",
    "import hvplot.xarray\n",
    "import holoviews as hv\n",
    "hv.extension('bokeh')"
   ]
  },
  {
   "cell_type": "code",
   "execution_count": null,
   "metadata": {},
   "outputs": [],
   "source": [
    "def calc_heat_map(dataset, lat_bins=None, lon_bins=None):\n",
    "    # Calculate heat map\n",
    "    heat_map = xhist(\n",
    "        dataset.lat,\n",
    "        dataset.lon,\n",
    "        bins=[lat_bins, lon_bins],\n",
    "        dim=[\"traj\", \"obs\"]\n",
    "    )\n",
    "    \n",
    "    # mask there no data\n",
    "    heat_map = heat_map.where(heat_map > 0)\n",
    "    \n",
    "    heat_map = heat_map.rename(\"heat_map\")\n",
    "        \n",
    "    return heat_map"
   ]
  },
  {
   "cell_type": "code",
   "execution_count": null,
   "metadata": {},
   "outputs": [],
   "source": [
    "lat_bins = np.linspace(30, 50, 100)\n",
    "lon_bins = np.linspace(0, 20, 100)\n",
    "\n",
    "heat_map = calc_heat_map(\n",
    "    datasets[\"medsea-trajectories-stokes\"].isel(traj=slice(0, 200_000)),\n",
    "    lat_bins=lat_bins,\n",
    "    lon_bins=lon_bins\n",
    ")"
   ]
  },
  {
   "cell_type": "code",
   "execution_count": null,
   "metadata": {},
   "outputs": [],
   "source": [
    "heat_map.plot()"
   ]
  }
 ],
 "metadata": {
  "kernelspec": {
   "display_name": "Python 3",
   "language": "python",
   "name": "python3"
  },
  "language_info": {
   "codemirror_mode": {
    "name": "ipython",
    "version": 3
   },
   "file_extension": ".py",
   "mimetype": "text/x-python",
   "name": "python",
   "nbconvert_exporter": "python",
   "pygments_lexer": "ipython3",
   "version": "3.7.3"
  }
 },
 "nbformat": 4,
 "nbformat_minor": 4
}
