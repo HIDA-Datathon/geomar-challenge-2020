{
 "cells": [
  {
   "cell_type": "markdown",
   "metadata": {},
   "source": [
    "# Have a first look at the trajectory data"
   ]
  },
  {
   "cell_type": "markdown",
   "metadata": {},
   "source": [
    "## Technical preamble"
   ]
  },
  {
   "cell_type": "code",
   "execution_count": null,
   "metadata": {},
   "outputs": [],
   "source": [
    "%matplotlib inline\n",
    "from matplotlib import pyplot as plt\n",
    "\n",
    "import intake  # data catalogs\n",
    "\n",
    "import xarray as xr  # provides basic datatypes for labeled nd arrays"
   ]
  },
  {
   "cell_type": "markdown",
   "metadata": {},
   "source": [
    "## Set parameters\n",
    "\n",
    "Let's make sure that this is the only place where users have to change contents."
   ]
  },
  {
   "cell_type": "code",
   "execution_count": null,
   "metadata": {},
   "outputs": [],
   "source": [
    "# parameters\n",
    "\n",
    "platform = \"gke\""
   ]
  },
  {
   "cell_type": "markdown",
   "metadata": {},
   "source": [
    "## Open the data catalog"
   ]
  },
  {
   "cell_type": "code",
   "execution_count": null,
   "metadata": {},
   "outputs": [],
   "source": [
    "catalog = intake.open_catalog(f\"intake-catalogs/medseaconnectivity_{platform}.yaml\")\n",
    "print(list(catalog))"
   ]
  },
  {
   "cell_type": "markdown",
   "metadata": {},
   "source": [
    "## Load a dataset"
   ]
  },
  {
   "cell_type": "markdown",
   "metadata": {},
   "source": [
    "There's two sets of trajectories:\n",
    "- `'medsea-trajectories-stokes'` contains trajectories at the sea surface that are feeling to drift by waves and the Ocean circulation.\n",
    "- `'medsea-trajectories'` contains trajectories at the sea surface and in deeper layers that are only feeling the Ocean circulation.\n",
    "\n",
    "Here, we'll only use the smaller `'medsea-trajectories-stokes'` dataset. Let's load it:"
   ]
  },
  {
   "cell_type": "code",
   "execution_count": null,
   "metadata": {},
   "outputs": [],
   "source": [
    "dataset = catalog['medsea-trajectories-stokes'].to_dask()\n",
    "display(dataset)\n",
    "print(f\"amounts to {dataset.nbytes / 1e9} GB\")"
   ]
  },
  {
   "cell_type": "markdown",
   "metadata": {},
   "source": [
    "## Restrict to subset of the data\n",
    "\n",
    "For now, we'll only use the first 50.000 trajectories. And we'll load all of it to memory."
   ]
  },
  {
   "cell_type": "code",
   "execution_count": null,
   "metadata": {},
   "outputs": [],
   "source": [
    "dataset = dataset.isel(traj=slice(0, 50_000))\n",
    "dataset = dataset.load()\n",
    "display(dataset)\n",
    "print(f\"amounts to {dataset.nbytes / 1e9} GB\")"
   ]
  },
  {
   "cell_type": "markdown",
   "metadata": {},
   "source": [
    "## Inspect the data\n",
    "\n",
    "There's two dimensions:\n",
    "- `traj` numbers individual trajectories\n",
    "- `obs` numbers time steps along each trajectory\n",
    "\n",
    "And there's data variables. For now, we'll only deal with a few:\n",
    "- `lat` gives the latitude of each trajectory at each observation.\n",
    "- `lon`: gives the longitude of each trajectory at each observation.\n",
    "- `temp`: gives the temperature of each trajectory at each observation.\n",
    "- `time`: gives the time stamp of each trajectory at each observation."
   ]
  },
  {
   "cell_type": "markdown",
   "metadata": {},
   "source": [
    "## Plot larvae positions with matplotlib"
   ]
  },
  {
   "cell_type": "code",
   "execution_count": null,
   "metadata": {},
   "outputs": [],
   "source": [
    "fig, ax = plt.subplots(2, 2, figsize=(7, 7), sharex=True, sharey=True)\n",
    "ax = ax.flatten()\n",
    "\n",
    "for hours, current_ax in zip([0, 10, 100, 961], ax):\n",
    "    dataset.isel(obs=hours).plot.scatter(x=\"lon\", y=\"lat\", s=10, alpha=0.01, ax=current_ax);\n",
    "    current_ax.set_title(f\"after {hours} hours\");\n",
    "\n",
    "    fig.tight_layout();"
   ]
  },
  {
   "cell_type": "markdown",
   "metadata": {},
   "source": [
    "## Plot larvae positions with holoviews and datashader"
   ]
  },
  {
   "cell_type": "code",
   "execution_count": null,
   "metadata": {},
   "outputs": [],
   "source": [
    "import holoviews as hv\n",
    "from holoviews.operation.datashader import datashade, shade, dynspread, rasterize\n",
    "from holoviews.operation import decimate\n",
    "hv.extension('bokeh')"
   ]
  },
  {
   "cell_type": "code",
   "execution_count": null,
   "metadata": {},
   "outputs": [],
   "source": [
    "points = hv.Points(\n",
    "    (dataset.lon.data.flat, dataset.lat.data.flat)\n",
    ")"
   ]
  },
  {
   "cell_type": "code",
   "execution_count": null,
   "metadata": {},
   "outputs": [],
   "source": [
    "datashade(points)"
   ]
  },
  {
   "cell_type": "markdown",
   "metadata": {},
   "source": [
    "## Plot on a map"
   ]
  },
  {
   "cell_type": "code",
   "execution_count": null,
   "metadata": {},
   "outputs": [],
   "source": [
    "import geoviews as gv\n",
    "import geoviews.feature as gf\n",
    "from cartopy import crs"
   ]
  },
  {
   "cell_type": "code",
   "execution_count": null,
   "metadata": {},
   "outputs": [],
   "source": [
    "points_geo = gv.Points(\n",
    "    (dataset.lon.data.flat, dataset.lat.data.flat)\n",
    ")"
   ]
  },
  {
   "cell_type": "code",
   "execution_count": null,
   "metadata": {},
   "outputs": [],
   "source": [
    "(\n",
    "    datashade(points_geo) * gf.coastline * gf.grid * gf.borders\n",
    ").opts(\n",
    "    'Feature', projection=crs.Geostationary(), global_extent=False,\n",
    "    width=400, height=400\n",
    ")"
   ]
  }
 ],
 "metadata": {
  "kernelspec": {
   "display_name": "Python 3",
   "language": "python",
   "name": "python3"
  },
  "language_info": {
   "codemirror_mode": {
    "name": "ipython",
    "version": 3
   },
   "file_extension": ".py",
   "mimetype": "text/x-python",
   "name": "python",
   "nbconvert_exporter": "python",
   "pygments_lexer": "ipython3",
   "version": "3.8.6"
  }
 },
 "nbformat": 4,
 "nbformat_minor": 4
}
