{
 "cells": [
  {
   "cell_type": "markdown",
   "metadata": {},
   "source": [
    "# HIDA Climate Datathon 2020 Challenge:<br>Visualizing 15 Million Lagrangian Trajectories"
   ]
  },
  {
   "cell_type": "markdown",
   "metadata": {},
   "source": [
    "## Platforms\n",
    "\n",
    "You can work on the challenge on three different platforms.\n",
    "\n",
    "To be able to automate platform specific configuration, please set\n",
    "- `platform = \"gke\"` for the Google deployment of Pangeo binder,\n",
    "- `platform = \"jsc\"` for the Jülich Supercomputing Centre deployment,\n",
    "- `platform = \"jsc_scratch\"` for the Jülich Supercomputing Centre deployment, scratch partition,\n",
    "- `platform = \"kit\"` for the KIT supercomputing deployment.\n",
    "in the parameters cell in each Jupyter notebook."
   ]
  },
  {
   "cell_type": "markdown",
   "metadata": {},
   "source": [
    "## Data\n",
    "\n",
    "We catalogued all the data provided to you with [Intake](https://intake.readthedocs.io/)."
   ]
  }
 ],
 "metadata": {
  "kernelspec": {
   "display_name": "Python [conda env:python-intro-self-study]",
   "language": "python",
   "name": "conda-env-python-intro-self-study-py"
  },
  "language_info": {
   "codemirror_mode": {
    "name": "ipython",
    "version": 3
   },
   "file_extension": ".py",
   "mimetype": "text/x-python",
   "name": "python",
   "nbconvert_exporter": "python",
   "pygments_lexer": "ipython3",
   "version": "3.7.3"
  }
 },
 "nbformat": 4,
 "nbformat_minor": 4
}
