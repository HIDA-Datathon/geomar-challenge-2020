{
 "cells": [
  {
   "cell_type": "markdown",
   "metadata": {},
   "source": [
    "# HIDA Climate Datathon 2020 Challenge:<br>Visualizing _15.000.000_ Lagrangian _Trajectories_"
   ]
  },
  {
   "cell_type": "markdown",
   "metadata": {},
   "source": [
    "## Platforms\n",
    "\n",
    "You can work on the challenge on three different platforms.\n",
    "\n",
    "To be able to automate platform specific configuration, please set\n",
    "- `platform = \"jsc\"` for the Jülich Supercomputing Centre deployment,\n",
    "- `platform = \"jsc_scratch\"` for the Jülich Supercomputing Centre deployment, scratch partition,\n",
    "- `platform = \"kit\"` for the KIT supercomputing deployment,\n",
    "- ~~`platform = \"gke\"` for the Google deployment of Pangeo binder.~~\n",
    "\n",
    "in the parameters cell in each Jupyter notebook."
   ]
  },
  {
   "cell_type": "markdown",
   "metadata": {},
   "source": [
    "## Data\n",
    "\n",
    "We catalogued all the raw data provided to you with [Intake](https://intake.readthedocs.io/)."
   ]
  },
  {
   "cell_type": "markdown",
   "metadata": {},
   "source": [
    "## About the science behind the data\n",
    "\n",
    "The data consist of 15.000.000 individual trajectories followed by simulated fish larvae. Each trajectory covers the first month of the simulated life at one-hour resolution.\n",
    "\n",
    "Along each trajectory, we've recorded position (latitude and longitude), depth at which the larva is drifting with the ocean currents, temperature felt by the larva, region of origin, distance traveled along the trajectory, time (they all start at different points in time).\n",
    "\n",
    "We have created these simulated trajectories to understand the genetic connectivity within the Mediterranean Sea under different assumptions. (More in the pitch.)"
   ]
  },
  {
   "cell_type": "markdown",
   "metadata": {},
   "source": [
    "## Challenge(s)"
   ]
  },
  {
   "cell_type": "markdown",
   "metadata": {},
   "source": [
    "### Visualization Challenge\n",
    "\n",
    "Build an app for interactive visualization of the 547 GB of data.  As a starting point, we point you to the Holoviz ecosystem (see below).  The challenge here is to meet _interactive timescales_ (that is, any action you perform on the plot should happen fast enough to prevent you from getting bored or distracted).\n",
    "\n",
    "Package poiters:\n",
    "\n",
    "* https://holoviz.org/background.html#the-holoviz-ecosystem\n",
    "* https://holoviz.org/background.html#building-on-the-python-scientific-ecosystem\n",
    "* https://scitools.org.uk/cartopy/docs/latest/cartopy.html\n",
    "    * https://stackoverflow.com/questions/32365410/location-of-stored-offline-data-for-cartopy)\n",
    "    * https://github.com/SciTools/cartopy/blob/master/tools/feature_download.py\n",
    "    * https://github.com/willirath/cartopy_offlinedata/ (https://github.com/conda-forge/cartopy_offlinedata-feedstock or https://anaconda.org/conda-forge/cartopy_offlinedata)"
   ]
  },
  {
   "cell_type": "markdown",
   "metadata": {},
   "source": [
    "### Optimization Challenge _(standalone or sub-challenge)_\n",
    "\n",
    "When exploring trajectories, users may want ot switch from\n",
    "- a regional view (select a rectangular box / zoom level)\n",
    "- to a trajectory-focused view (click on a trajectory and see it and similar trajectories for the whole dataset).\n",
    "\n",
    "When handling hundreds of GB of data, this needs optimization of how to store the data.\n",
    "\n",
    "Package pointers:\n",
    "* https://dask.org (especially the array and dataframe API)\n",
    "* https://zarr.readthedocs.io\n",
    "* https://fastparquet.readthedocs.io/\n",
    "* https://rapids.ai/"
   ]
  },
  {
   "cell_type": "markdown",
   "metadata": {},
   "source": [
    "### Analysis Challenge _(standalone or sub-challenge)_\n",
    "\n",
    "- Can you use machine-learning to find emerging pathways the larvae took?\n",
    "- Can you quantify these pathways and compare their weights for different regions of origin, for different physical forces acting on the larva, etc.?"
   ]
  }
 ],
 "metadata": {
  "kernelspec": {
   "display_name": "datathon",
   "language": "python",
   "name": "datathon"
  },
  "language_info": {
   "codemirror_mode": {
    "name": "ipython",
    "version": 3
   },
   "file_extension": ".py",
   "mimetype": "text/x-python",
   "name": "python",
   "nbconvert_exporter": "python",
   "pygments_lexer": "ipython3",
   "version": "3.6.8"
  }
 },
 "nbformat": 4,
 "nbformat_minor": 4
}
